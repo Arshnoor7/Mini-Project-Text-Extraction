{
  "nbformat": 4,
  "nbformat_minor": 0,
  "metadata": {
    "colab": {
      "provenance": [],
      "include_colab_link": true
    },
    "kernelspec": {
      "name": "python3",
      "display_name": "Python 3"
    },
    "language_info": {
      "name": "python"
    }
  },
  "cells": [
    {
      "cell_type": "markdown",
      "metadata": {
        "id": "view-in-github",
        "colab_type": "text"
      },
      "source": [
        "<a href=\"https://colab.research.google.com/github/Arshnoor7/Mini-Project-Text-Extraction/blob/main/Text_Extraction.ipynb\" target=\"_parent\"><img src=\"https://colab.research.google.com/assets/colab-badge.svg\" alt=\"Open In Colab\"/></a>"
      ]
    },
    {
      "cell_type": "markdown",
      "source": [
        "#Text Extraction from any file type"
      ],
      "metadata": {
        "id": "cavSDr1xUs-9"
      }
    },
    {
      "cell_type": "markdown",
      "source": [
        "#1\n",
        "##Install various libraries\n",
        "We may use few of them but these are for your future refrances."
      ],
      "metadata": {
        "id": "t8zOuQ8_IzH7"
      }
    },
    {
      "cell_type": "code",
      "execution_count": 1,
      "metadata": {
        "colab": {
          "base_uri": "https://localhost:8080/",
          "height": 1000
        },
        "id": "5S8DQwSfwV06",
        "outputId": "e693222b-33ee-4802-dbe3-03ee3589fbc8"
      },
      "outputs": [
        {
          "output_type": "stream",
          "name": "stdout",
          "text": [
            "Collecting PyPDF2\n",
            "  Downloading pypdf2-3.0.1-py3-none-any.whl (232 kB)\n",
            "\u001b[?25l     \u001b[90m━━━━━━━━━━━━━━━━━━━━━━━━━━━━━━━━━━━━━━━━\u001b[0m \u001b[32m0.0/232.6 kB\u001b[0m \u001b[31m?\u001b[0m eta \u001b[36m-:--:--\u001b[0m\r\u001b[2K     \u001b[90m━━━━━━━━━━━━━━━━━━━━━━━━━━━━━━━━━━━━━━━\u001b[0m \u001b[32m232.6/232.6 kB\u001b[0m \u001b[31m8.3 MB/s\u001b[0m eta \u001b[36m0:00:00\u001b[0m\n",
            "\u001b[?25hInstalling collected packages: PyPDF2\n",
            "Successfully installed PyPDF2-3.0.1\n",
            "Collecting textract\n",
            "  Downloading textract-1.6.5-py3-none-any.whl (23 kB)\n",
            "Collecting argcomplete~=1.10.0 (from textract)\n",
            "  Downloading argcomplete-1.10.3-py2.py3-none-any.whl (36 kB)\n",
            "Collecting beautifulsoup4~=4.8.0 (from textract)\n",
            "  Downloading beautifulsoup4-4.8.2-py3-none-any.whl (106 kB)\n",
            "\u001b[2K     \u001b[90m━━━━━━━━━━━━━━━━━━━━━━━━━━━━━━━━━━━━━━━\u001b[0m \u001b[32m106.9/106.9 kB\u001b[0m \u001b[31m9.6 MB/s\u001b[0m eta \u001b[36m0:00:00\u001b[0m\n",
            "\u001b[?25hCollecting chardet==3.* (from textract)\n",
            "  Downloading chardet-3.0.4-py2.py3-none-any.whl (133 kB)\n",
            "\u001b[2K     \u001b[90m━━━━━━━━━━━━━━━━━━━━━━━━━━━━━━━━━━━━━━\u001b[0m \u001b[32m133.4/133.4 kB\u001b[0m \u001b[31m15.1 MB/s\u001b[0m eta \u001b[36m0:00:00\u001b[0m\n",
            "\u001b[?25hCollecting docx2txt~=0.8 (from textract)\n",
            "  Downloading docx2txt-0.8.tar.gz (2.8 kB)\n",
            "  Preparing metadata (setup.py) ... \u001b[?25l\u001b[?25hdone\n",
            "Collecting extract-msg<=0.29.* (from textract)\n",
            "  Downloading extract_msg-0.28.7-py2.py3-none-any.whl (69 kB)\n",
            "\u001b[2K     \u001b[90m━━━━━━━━━━━━━━━━━━━━━━━━━━━━━━━━━━━━━━━━\u001b[0m \u001b[32m69.0/69.0 kB\u001b[0m \u001b[31m7.3 MB/s\u001b[0m eta \u001b[36m0:00:00\u001b[0m\n",
            "\u001b[?25hCollecting pdfminer.six==20191110 (from textract)\n",
            "  Downloading pdfminer.six-20191110-py2.py3-none-any.whl (5.6 MB)\n",
            "\u001b[2K     \u001b[90m━━━━━━━━━━━━━━━━━━━━━━━━━━━━━━━━━━━━━━━━\u001b[0m \u001b[32m5.6/5.6 MB\u001b[0m \u001b[31m75.5 MB/s\u001b[0m eta \u001b[36m0:00:00\u001b[0m\n",
            "\u001b[?25hCollecting python-pptx~=0.6.18 (from textract)\n",
            "  Downloading python-pptx-0.6.21.tar.gz (10.1 MB)\n",
            "\u001b[2K     \u001b[90m━━━━━━━━━━━━━━━━━━━━━━━━━━━━━━━━━━━━━━━━\u001b[0m \u001b[32m10.1/10.1 MB\u001b[0m \u001b[31m73.1 MB/s\u001b[0m eta \u001b[36m0:00:00\u001b[0m\n",
            "\u001b[?25h  Preparing metadata (setup.py) ... \u001b[?25l\u001b[?25hdone\n",
            "Collecting six~=1.12.0 (from textract)\n",
            "  Downloading six-1.12.0-py2.py3-none-any.whl (10 kB)\n",
            "Collecting SpeechRecognition~=3.8.1 (from textract)\n",
            "  Downloading SpeechRecognition-3.8.1-py2.py3-none-any.whl (32.8 MB)\n",
            "\u001b[2K     \u001b[90m━━━━━━━━━━━━━━━━━━━━━━━━━━━━━━━━━━━━━━━━\u001b[0m \u001b[32m32.8/32.8 MB\u001b[0m \u001b[31m21.0 MB/s\u001b[0m eta \u001b[36m0:00:00\u001b[0m\n",
            "\u001b[?25hCollecting xlrd~=1.2.0 (from textract)\n",
            "  Downloading xlrd-1.2.0-py2.py3-none-any.whl (103 kB)\n",
            "\u001b[2K     \u001b[90m━━━━━━━━━━━━━━━━━━━━━━━━━━━━━━━━━━━━━━━\u001b[0m \u001b[32m103.3/103.3 kB\u001b[0m \u001b[31m9.6 MB/s\u001b[0m eta \u001b[36m0:00:00\u001b[0m\n",
            "\u001b[?25hCollecting pycryptodome (from pdfminer.six==20191110->textract)\n",
            "  Downloading pycryptodome-3.18.0-cp35-abi3-manylinux_2_17_x86_64.manylinux2014_x86_64.whl (2.1 MB)\n",
            "\u001b[2K     \u001b[90m━━━━━━━━━━━━━━━━━━━━━━━━━━━━━━━━━━━━━━━━\u001b[0m \u001b[32m2.1/2.1 MB\u001b[0m \u001b[31m55.8 MB/s\u001b[0m eta \u001b[36m0:00:00\u001b[0m\n",
            "\u001b[?25hRequirement already satisfied: sortedcontainers in /usr/local/lib/python3.10/dist-packages (from pdfminer.six==20191110->textract) (2.4.0)\n",
            "Requirement already satisfied: soupsieve>=1.2 in /usr/local/lib/python3.10/dist-packages (from beautifulsoup4~=4.8.0->textract) (2.4.1)\n",
            "Collecting imapclient==2.1.0 (from extract-msg<=0.29.*->textract)\n",
            "  Downloading IMAPClient-2.1.0-py2.py3-none-any.whl (73 kB)\n",
            "\u001b[2K     \u001b[90m━━━━━━━━━━━━━━━━━━━━━━━━━━━━━━━━━━━━━━━━\u001b[0m \u001b[32m74.0/74.0 kB\u001b[0m \u001b[31m8.0 MB/s\u001b[0m eta \u001b[36m0:00:00\u001b[0m\n",
            "\u001b[?25hCollecting olefile>=0.46 (from extract-msg<=0.29.*->textract)\n",
            "  Downloading olefile-0.46.zip (112 kB)\n",
            "\u001b[2K     \u001b[90m━━━━━━━━━━━━━━━━━━━━━━━━━━━━━━━━━━━━━━\u001b[0m \u001b[32m112.2/112.2 kB\u001b[0m \u001b[31m11.8 MB/s\u001b[0m eta \u001b[36m0:00:00\u001b[0m\n",
            "\u001b[?25h  Preparing metadata (setup.py) ... \u001b[?25l\u001b[?25hdone\n",
            "Requirement already satisfied: tzlocal>=2.1 in /usr/local/lib/python3.10/dist-packages (from extract-msg<=0.29.*->textract) (5.0.1)\n",
            "Collecting compressed-rtf>=1.0.6 (from extract-msg<=0.29.*->textract)\n",
            "  Downloading compressed_rtf-1.0.6.tar.gz (5.8 kB)\n",
            "  Preparing metadata (setup.py) ... \u001b[?25l\u001b[?25hdone\n",
            "Collecting ebcdic>=1.1.1 (from extract-msg<=0.29.*->textract)\n",
            "  Downloading ebcdic-1.1.1-py2.py3-none-any.whl (128 kB)\n",
            "\u001b[2K     \u001b[90m━━━━━━━━━━━━━━━━━━━━━━━━━━━━━━━━━━━━━━\u001b[0m \u001b[32m128.5/128.5 kB\u001b[0m \u001b[31m13.2 MB/s\u001b[0m eta \u001b[36m0:00:00\u001b[0m\n",
            "\u001b[?25hRequirement already satisfied: lxml>=3.1.0 in /usr/local/lib/python3.10/dist-packages (from python-pptx~=0.6.18->textract) (4.9.2)\n",
            "Requirement already satisfied: Pillow>=3.3.2 in /usr/local/lib/python3.10/dist-packages (from python-pptx~=0.6.18->textract) (8.4.0)\n",
            "Collecting XlsxWriter>=0.5.7 (from python-pptx~=0.6.18->textract)\n",
            "  Downloading XlsxWriter-3.1.2-py3-none-any.whl (153 kB)\n",
            "\u001b[2K     \u001b[90m━━━━━━━━━━━━━━━━━━━━━━━━━━━━━━━━━━━━━━\u001b[0m \u001b[32m153.0/153.0 kB\u001b[0m \u001b[31m16.1 MB/s\u001b[0m eta \u001b[36m0:00:00\u001b[0m\n",
            "\u001b[?25hBuilding wheels for collected packages: docx2txt, python-pptx, compressed-rtf, olefile\n",
            "  Building wheel for docx2txt (setup.py) ... \u001b[?25l\u001b[?25hdone\n",
            "  Created wheel for docx2txt: filename=docx2txt-0.8-py3-none-any.whl size=3957 sha256=445c6da4cda95dd7bbfef23cbb6b99df468e9cffc863ee8a08e5378b3854af70\n",
            "  Stored in directory: /root/.cache/pip/wheels/22/58/cf/093d0a6c3ecfdfc5f6ddd5524043b88e59a9a199cb02352966\n",
            "  Building wheel for python-pptx (setup.py) ... \u001b[?25l\u001b[?25hdone\n",
            "  Created wheel for python-pptx: filename=python_pptx-0.6.21-py3-none-any.whl size=470935 sha256=f4ff6991d38c6c8db5199dc0a4fe4ffe95eb357c1fdd0d2cf3a05430137693c7\n",
            "  Stored in directory: /root/.cache/pip/wheels/ea/dd/74/01b3ec7256a0800b99384e9a0f7620e358afc3a51a59bf9b49\n",
            "  Building wheel for compressed-rtf (setup.py) ... \u001b[?25l\u001b[?25hdone\n",
            "  Created wheel for compressed-rtf: filename=compressed_rtf-1.0.6-py3-none-any.whl size=6185 sha256=39e787dcc9d431a9ed1923f418f59b6eeb37715b7535103105b4f146bb0ef1ce\n",
            "  Stored in directory: /root/.cache/pip/wheels/15/3e/48/e7d833ecc516c36f8966d310b1a6386db091a718f1ff3bf85c\n",
            "  Building wheel for olefile (setup.py) ... \u001b[?25l\u001b[?25hdone\n",
            "  Created wheel for olefile: filename=olefile-0.46-py2.py3-none-any.whl size=35417 sha256=e2a69c5165529180e4d3e4c7fab3cb6a51282be292168465ff6668c36609b89e\n",
            "  Stored in directory: /root/.cache/pip/wheels/02/39/c0/9eb1f7a42b4b38f6f333b6314d4ed11c46f12a0f7b78194f0d\n",
            "Successfully built docx2txt python-pptx compressed-rtf olefile\n",
            "Installing collected packages: SpeechRecognition, ebcdic, docx2txt, compressed-rtf, chardet, argcomplete, XlsxWriter, xlrd, six, pycryptodome, olefile, beautifulsoup4, python-pptx, pdfminer.six, imapclient, extract-msg, textract\n",
            "  Attempting uninstall: chardet\n",
            "    Found existing installation: chardet 4.0.0\n",
            "    Uninstalling chardet-4.0.0:\n",
            "      Successfully uninstalled chardet-4.0.0\n",
            "  Attempting uninstall: xlrd\n",
            "    Found existing installation: xlrd 2.0.1\n",
            "    Uninstalling xlrd-2.0.1:\n",
            "      Successfully uninstalled xlrd-2.0.1\n",
            "  Attempting uninstall: six\n",
            "    Found existing installation: six 1.16.0\n",
            "    Uninstalling six-1.16.0:\n",
            "      Successfully uninstalled six-1.16.0\n",
            "  Attempting uninstall: beautifulsoup4\n",
            "    Found existing installation: beautifulsoup4 4.11.2\n",
            "    Uninstalling beautifulsoup4-4.11.2:\n",
            "      Successfully uninstalled beautifulsoup4-4.11.2\n",
            "\u001b[31mERROR: pip's dependency resolver does not currently take into account all the packages that are installed. This behaviour is the source of the following dependency conflicts.\n",
            "yfinance 0.2.21 requires beautifulsoup4>=4.11.1, but you have beautifulsoup4 4.8.2 which is incompatible.\u001b[0m\u001b[31m\n",
            "\u001b[0mSuccessfully installed SpeechRecognition-3.8.1 XlsxWriter-3.1.2 argcomplete-1.10.3 beautifulsoup4-4.8.2 chardet-3.0.4 compressed-rtf-1.0.6 docx2txt-0.8 ebcdic-1.1.1 extract-msg-0.28.7 imapclient-2.1.0 olefile-0.46 pdfminer.six-20191110 pycryptodome-3.18.0 python-pptx-0.6.21 six-1.12.0 textract-1.6.5 xlrd-1.2.0\n"
          ]
        },
        {
          "output_type": "display_data",
          "data": {
            "application/vnd.colab-display-data+json": {
              "pip_warning": {
                "packages": [
                  "six"
                ]
              }
            }
          },
          "metadata": {}
        },
        {
          "output_type": "stream",
          "name": "stdout",
          "text": [
            "Collecting pytesseract\n",
            "  Downloading pytesseract-0.3.10-py3-none-any.whl (14 kB)\n",
            "Requirement already satisfied: packaging>=21.3 in /usr/local/lib/python3.10/dist-packages (from pytesseract) (23.1)\n",
            "Requirement already satisfied: Pillow>=8.0.0 in /usr/local/lib/python3.10/dist-packages (from pytesseract) (8.4.0)\n",
            "Installing collected packages: pytesseract\n",
            "Successfully installed pytesseract-0.3.10\n",
            "Reading package lists... Done\n",
            "Building dependency tree       \n",
            "Reading state information... Done\n",
            "The following additional packages will be installed:\n",
            "  tesseract-ocr-eng tesseract-ocr-osd\n",
            "The following NEW packages will be installed:\n",
            "  tesseract-ocr tesseract-ocr-eng tesseract-ocr-osd\n",
            "0 upgraded, 3 newly installed, 0 to remove and 15 not upgraded.\n",
            "Need to get 4,850 kB of archives.\n",
            "After this operation, 16.3 MB of additional disk space will be used.\n",
            "Get:1 http://archive.ubuntu.com/ubuntu focal/universe amd64 tesseract-ocr-eng all 1:4.00~git30-7274cfa-1 [1,598 kB]\n",
            "Get:2 http://archive.ubuntu.com/ubuntu focal/universe amd64 tesseract-ocr-osd all 1:4.00~git30-7274cfa-1 [2,990 kB]\n",
            "Get:3 http://archive.ubuntu.com/ubuntu focal/universe amd64 tesseract-ocr amd64 4.1.1-2build2 [262 kB]\n",
            "Fetched 4,850 kB in 1s (5,168 kB/s)\n",
            "Selecting previously unselected package tesseract-ocr-eng.\n",
            "(Reading database ... 123069 files and directories currently installed.)\n",
            "Preparing to unpack .../tesseract-ocr-eng_1%3a4.00~git30-7274cfa-1_all.deb ...\n",
            "Unpacking tesseract-ocr-eng (1:4.00~git30-7274cfa-1) ...\n",
            "Selecting previously unselected package tesseract-ocr-osd.\n",
            "Preparing to unpack .../tesseract-ocr-osd_1%3a4.00~git30-7274cfa-1_all.deb ...\n",
            "Unpacking tesseract-ocr-osd (1:4.00~git30-7274cfa-1) ...\n",
            "Selecting previously unselected package tesseract-ocr.\n",
            "Preparing to unpack .../tesseract-ocr_4.1.1-2build2_amd64.deb ...\n",
            "Unpacking tesseract-ocr (4.1.1-2build2) ...\n",
            "Setting up tesseract-ocr-eng (1:4.00~git30-7274cfa-1) ...\n",
            "Setting up tesseract-ocr-osd (1:4.00~git30-7274cfa-1) ...\n",
            "Setting up tesseract-ocr (4.1.1-2build2) ...\n",
            "Processing triggers for man-db (2.9.1-1) ...\n",
            "Reading package lists... Done\n",
            "Building dependency tree       \n",
            "Reading state information... Done\n",
            "The following additional packages will be installed:\n",
            "  libarchive-dev libleptonica-dev\n",
            "The following NEW packages will be installed:\n",
            "  libarchive-dev libleptonica-dev libtesseract-dev\n",
            "0 upgraded, 3 newly installed, 0 to remove and 15 not upgraded.\n",
            "Need to get 3,343 kB of archives.\n",
            "After this operation, 15.7 MB of additional disk space will be used.\n",
            "Get:1 http://archive.ubuntu.com/ubuntu focal-updates/main amd64 libarchive-dev amd64 3.4.0-2ubuntu1.2 [491 kB]\n",
            "Get:2 http://archive.ubuntu.com/ubuntu focal/universe amd64 libleptonica-dev amd64 1.79.0-1 [1,389 kB]\n",
            "Get:3 http://archive.ubuntu.com/ubuntu focal/universe amd64 libtesseract-dev amd64 4.1.1-2build2 [1,463 kB]\n",
            "Fetched 3,343 kB in 1s (4,338 kB/s)\n",
            "Selecting previously unselected package libarchive-dev:amd64.\n",
            "(Reading database ... 123116 files and directories currently installed.)\n",
            "Preparing to unpack .../libarchive-dev_3.4.0-2ubuntu1.2_amd64.deb ...\n",
            "Unpacking libarchive-dev:amd64 (3.4.0-2ubuntu1.2) ...\n",
            "Selecting previously unselected package libleptonica-dev:amd64.\n",
            "Preparing to unpack .../libleptonica-dev_1.79.0-1_amd64.deb ...\n",
            "Unpacking libleptonica-dev:amd64 (1.79.0-1) ...\n",
            "Selecting previously unselected package libtesseract-dev:amd64.\n",
            "Preparing to unpack .../libtesseract-dev_4.1.1-2build2_amd64.deb ...\n",
            "Unpacking libtesseract-dev:amd64 (4.1.1-2build2) ...\n",
            "Setting up libleptonica-dev:amd64 (1.79.0-1) ...\n",
            "Setting up libarchive-dev:amd64 (3.4.0-2ubuntu1.2) ...\n",
            "Setting up libtesseract-dev:amd64 (4.1.1-2build2) ...\n",
            "Processing triggers for man-db (2.9.1-1) ...\n",
            "Requirement already satisfied: pytesseract in /usr/local/lib/python3.10/dist-packages (0.3.10)\n",
            "Requirement already satisfied: packaging>=21.3 in /usr/local/lib/python3.10/dist-packages (from pytesseract) (23.1)\n",
            "Requirement already satisfied: Pillow>=8.0.0 in /usr/local/lib/python3.10/dist-packages (from pytesseract) (8.4.0)\n",
            "Requirement already satisfied: textract in /usr/local/lib/python3.10/dist-packages (1.6.5)\n",
            "Requirement already satisfied: argcomplete~=1.10.0 in /usr/local/lib/python3.10/dist-packages (from textract) (1.10.3)\n",
            "Requirement already satisfied: beautifulsoup4~=4.8.0 in /usr/local/lib/python3.10/dist-packages (from textract) (4.8.2)\n",
            "Requirement already satisfied: chardet==3.* in /usr/local/lib/python3.10/dist-packages (from textract) (3.0.4)\n",
            "Requirement already satisfied: docx2txt~=0.8 in /usr/local/lib/python3.10/dist-packages (from textract) (0.8)\n",
            "Requirement already satisfied: extract-msg<=0.29.* in /usr/local/lib/python3.10/dist-packages (from textract) (0.28.7)\n",
            "Requirement already satisfied: pdfminer.six==20191110 in /usr/local/lib/python3.10/dist-packages (from textract) (20191110)\n",
            "Requirement already satisfied: python-pptx~=0.6.18 in /usr/local/lib/python3.10/dist-packages (from textract) (0.6.21)\n",
            "Requirement already satisfied: six~=1.12.0 in /usr/local/lib/python3.10/dist-packages (from textract) (1.12.0)\n",
            "Requirement already satisfied: SpeechRecognition~=3.8.1 in /usr/local/lib/python3.10/dist-packages (from textract) (3.8.1)\n",
            "Requirement already satisfied: xlrd~=1.2.0 in /usr/local/lib/python3.10/dist-packages (from textract) (1.2.0)\n",
            "Requirement already satisfied: pycryptodome in /usr/local/lib/python3.10/dist-packages (from pdfminer.six==20191110->textract) (3.18.0)\n",
            "Requirement already satisfied: sortedcontainers in /usr/local/lib/python3.10/dist-packages (from pdfminer.six==20191110->textract) (2.4.0)\n",
            "Requirement already satisfied: soupsieve>=1.2 in /usr/local/lib/python3.10/dist-packages (from beautifulsoup4~=4.8.0->textract) (2.4.1)\n",
            "Requirement already satisfied: imapclient==2.1.0 in /usr/local/lib/python3.10/dist-packages (from extract-msg<=0.29.*->textract) (2.1.0)\n",
            "Requirement already satisfied: olefile>=0.46 in /usr/local/lib/python3.10/dist-packages (from extract-msg<=0.29.*->textract) (0.46)\n",
            "Requirement already satisfied: tzlocal>=2.1 in /usr/local/lib/python3.10/dist-packages (from extract-msg<=0.29.*->textract) (5.0.1)\n",
            "Requirement already satisfied: compressed-rtf>=1.0.6 in /usr/local/lib/python3.10/dist-packages (from extract-msg<=0.29.*->textract) (1.0.6)\n",
            "Requirement already satisfied: ebcdic>=1.1.1 in /usr/local/lib/python3.10/dist-packages (from extract-msg<=0.29.*->textract) (1.1.1)\n",
            "Requirement already satisfied: lxml>=3.1.0 in /usr/local/lib/python3.10/dist-packages (from python-pptx~=0.6.18->textract) (4.9.2)\n",
            "Requirement already satisfied: Pillow>=3.3.2 in /usr/local/lib/python3.10/dist-packages (from python-pptx~=0.6.18->textract) (8.4.0)\n",
            "Requirement already satisfied: XlsxWriter>=0.5.7 in /usr/local/lib/python3.10/dist-packages (from python-pptx~=0.6.18->textract) (3.1.2)\n",
            "Collecting pdf2image\n",
            "  Downloading pdf2image-1.16.3-py3-none-any.whl (11 kB)\n",
            "Requirement already satisfied: pillow in /usr/local/lib/python3.10/dist-packages (from pdf2image) (8.4.0)\n",
            "Installing collected packages: pdf2image\n",
            "Successfully installed pdf2image-1.16.3\n",
            "Reading package lists... Done\n",
            "Building dependency tree       \n",
            "Reading state information... Done\n",
            "The following NEW packages will be installed:\n",
            "  poppler-utils\n",
            "0 upgraded, 1 newly installed, 0 to remove and 15 not upgraded.\n",
            "Need to get 174 kB of archives.\n",
            "After this operation, 754 kB of additional disk space will be used.\n",
            "Get:1 http://archive.ubuntu.com/ubuntu focal-updates/main amd64 poppler-utils amd64 0.86.1-0ubuntu1.1 [174 kB]\n",
            "Fetched 174 kB in 0s (431 kB/s)\n",
            "Selecting previously unselected package poppler-utils.\n",
            "(Reading database ... 123247 files and directories currently installed.)\n",
            "Preparing to unpack .../poppler-utils_0.86.1-0ubuntu1.1_amd64.deb ...\n",
            "Unpacking poppler-utils (0.86.1-0ubuntu1.1) ...\n",
            "Setting up poppler-utils (0.86.1-0ubuntu1.1) ...\n",
            "Processing triggers for man-db (2.9.1-1) ...\n"
          ]
        }
      ],
      "source": [
        "!pip install PyPDF2  # Install PyPDF2 library for working with PDF files\n",
        "!pip install textract  # Install textract library for extracting text from various file formats\n",
        "!pip install pytesseract  # Install pytesseract library for optical character recognition (OCR)\n",
        "!apt-get install tesseract-ocr  # Install Tesseract OCR engine\n",
        "!apt-get install libtesseract-dev  # Install Tesseract development libraries\n",
        "!pip install pytesseract  # Install pytesseract Python wrapper for Tesseract OCR\n",
        "!pip install textract  # Install textract library for text extraction from various file types\n",
        "!pip install pdf2image  # Install pdf2image library for converting PDFs to images\n",
        "!apt-get install poppler-utils  # Install poppler-utils for working with PDFs and extracting text"
      ]
    },
    {
      "cell_type": "markdown",
      "source": [
        "#2\n",
        "##Import the required libraries"
      ],
      "metadata": {
        "id": "lfpUYL8pJkjZ"
      }
    },
    {
      "cell_type": "code",
      "source": [
        "from PyPDF2 import PdfReader  # Import PdfReader class from PyPDF2 library for reading PDF files\n",
        "import pytesseract  # Import pytesseract library for OCR (text extraction from images)\n",
        "from PIL import Image  # Import Image class from Pillow library for image manipulation\n",
        "import textract  # Import textract library for text extraction from various file formats"
      ],
      "metadata": {
        "id": "GS2dzYJ7wix4"
      },
      "execution_count": 2,
      "outputs": []
    },
    {
      "cell_type": "markdown",
      "source": [
        "#3\n",
        "##Text extraction from Pdf"
      ],
      "metadata": {
        "id": "xIjZ6e5FJz3x"
      }
    },
    {
      "cell_type": "code",
      "source": [
        "def extract_text_from_pdf(pdf_path):\n",
        "    text = \"\"  # Initialize an empty string to store the extracted text\n",
        "    with open(pdf_path, 'rb') as file:  # Open the PDF file in read-binary mode\n",
        "        reader = PdfReader(file)  # Create a PDF reader object\n",
        "        for page in reader.pages:  # Iterate through each page in the PDF\n",
        "            text += page.extract_text()  # Extract the text from the current page and append it to the 'text' variable\n",
        "    return text  # Return the extracted text\n"
      ],
      "metadata": {
        "id": "3S4JrVSZwlB_"
      },
      "execution_count": 3,
      "outputs": []
    },
    {
      "cell_type": "markdown",
      "source": [
        "#4\n",
        "##Text extraction from Image"
      ],
      "metadata": {
        "id": "Vg_sIshwKI7o"
      }
    },
    {
      "cell_type": "code",
      "source": [
        "def extract_text_from_image(image_path):\n",
        "    image = Image.open(image_path)  # Open the image file using PIL's Image class\n",
        "    text = pytesseract.image_to_string(image)  # Use pytesseract to extract text from the image\n",
        "    return text  # Return the extracted text\n"
      ],
      "metadata": {
        "id": "n-yslFs3wr-s"
      },
      "execution_count": 4,
      "outputs": []
    },
    {
      "cell_type": "markdown",
      "source": [
        "#5\n",
        "##Text extraction from any file type."
      ],
      "metadata": {
        "id": "80oqkG-zL0uu"
      }
    },
    {
      "cell_type": "code",
      "source": [
        "def extract_text_from_other(file_path):\n",
        "    text = textract.process(file_path)  # Use textract to extract text from the file\n",
        "    return text.decode('utf-8')  # Decode the extracted text from bytes to UTF-8 string\n"
      ],
      "metadata": {
        "id": "rrJTj2OpwuUI"
      },
      "execution_count": 5,
      "outputs": []
    },
    {
      "cell_type": "markdown",
      "source": [
        "#6\n",
        "##Main function redirection to above function based upon file type"
      ],
      "metadata": {
        "id": "oBFUg_5_MSeh"
      }
    },
    {
      "cell_type": "code",
      "source": [
        "def extract_text_from_file(file_path):\n",
        "    if file_path.lower().endswith('.pdf'):  # If the file is a PDF\n",
        "        return extract_text_from_pdf(file_path)  # Extract text from the PDF file\n",
        "    elif file_path.lower().endswith(('.jpg', '.jpeg', '.png', '.gif', '.webp')):  # If the file is an image\n",
        "        return extract_text_from_image(file_path)  # Extract text from the image file\n",
        "    else:  # For other file types such as csv, word document etc\n",
        "        return extract_text_from_other(file_path)  # Extract text using other methods"
      ],
      "metadata": {
        "id": "u97-LaThwwHx"
      },
      "execution_count": 6,
      "outputs": []
    },
    {
      "cell_type": "markdown",
      "source": [
        "#7\n",
        "##Upload file path\n",
        "##Send file to above main function\n",
        "##And wait for output\n",
        "Try uploading random images ."
      ],
      "metadata": {
        "id": "g1OYKBkgMhmP"
      }
    },
    {
      "cell_type": "code",
      "source": [
        "file_path = '/content/merged_data (1).csv'\n",
        "extracted_text = extract_text_from_file(file_path)\n",
        "print(extracted_text)"
      ],
      "metadata": {
        "colab": {
          "base_uri": "https://localhost:8080/"
        },
        "id": "vICSlXcjwyTZ",
        "outputId": "d28145ac-36d1-44a5-bab8-47a127702401"
      },
      "execution_count": 8,
      "outputs": [
        {
          "output_type": "stream",
          "name": "stdout",
          "text": [
            "Name\tRAM\tROM\tSold Quantity\tRating\n",
            "POCO M4 5G\t4\t64\t79482\t4.2\n",
            "APPLE iPhone 13\t0\t128\t227342\t4.7\n",
            "APPLE iPhone 13\t0\t128\t227342\t4.7\n",
            "APPLE iPhone 13\t0\t128\t227342\t4.7\n",
            "POCO M4 5G\t4\t64\t79482\t4.2\n",
            "vivo T2 5G\t8\t128\t4978\t4.4\n",
            "APPLE iPhone 13\t0\t128\t227342\t4.7\n",
            "SAMSUNG Galaxy F14 5G\t6\t128\t17115\t4.2\n",
            "Infinix Note 12 Pro 5G\t8\t128\t28073\t4.1\n",
            "Infinix Note 12 Pro 5G\t8\t128\t28073\t4.1\n",
            "SAMSUNG Galaxy F23 5G\t6\t128\t195602\t4.3\n",
            "POCO X5 Pro 5G\t8\t256\t8229\t4.3\n",
            "POCO M4 5G\t4\t64\t79482\t4.2\n",
            "realme 10 Pro 5G\t8\t128\t19487\t4.3\n",
            "realme 10 Pro 5G\t6\t128\t26570\t4.3\n",
            "realme GT 2\t8\t128\t10142\t4.3\n",
            "realme GT 2\t8\t128\t10142\t4.3\n",
            "Google Pixel 6a\t6\t128\t47692\t4.3\n",
            "Google Pixel 6a\t6\t128\t47692\t4.3\n",
            "realme 10 Pro 5G\t6\t128\t26570\t4.3\n",
            "realme 10 Pro 5G\t8\t128\t19487\t4.3\n",
            "realme 10 Pro 5G\t6\t128\t26570\t4.3\n",
            "realme 10 Pro 5G\t8\t128\t19487\t4.3\n",
            "SAMSUNG Galaxy F23 5G\t6\t128\t195602\t4.3\n"
          ]
        }
      ]
    },
    {
      "cell_type": "code",
      "source": [
        "extracted_text"
      ],
      "metadata": {
        "colab": {
          "base_uri": "https://localhost:8080/",
          "height": 157
        },
        "id": "dl7GrUoZw0uS",
        "outputId": "0f35879b-0a72-4610-cdf1-7981618ad707"
      },
      "execution_count": 9,
      "outputs": [
        {
          "output_type": "execute_result",
          "data": {
            "text/plain": [
              "'Name\\tRAM\\tROM\\tSold Quantity\\tRating\\nPOCO M4 5G\\t4\\t64\\t79482\\t4.2\\nAPPLE iPhone 13\\t0\\t128\\t227342\\t4.7\\nAPPLE iPhone 13\\t0\\t128\\t227342\\t4.7\\nAPPLE iPhone 13\\t0\\t128\\t227342\\t4.7\\nPOCO M4 5G\\t4\\t64\\t79482\\t4.2\\nvivo T2 5G\\t8\\t128\\t4978\\t4.4\\nAPPLE iPhone 13\\t0\\t128\\t227342\\t4.7\\nSAMSUNG Galaxy F14 5G\\t6\\t128\\t17115\\t4.2\\nInfinix Note 12 Pro 5G\\t8\\t128\\t28073\\t4.1\\nInfinix Note 12 Pro 5G\\t8\\t128\\t28073\\t4.1\\nSAMSUNG Galaxy F23 5G\\t6\\t128\\t195602\\t4.3\\nPOCO X5 Pro 5G\\t8\\t256\\t8229\\t4.3\\nPOCO M4 5G\\t4\\t64\\t79482\\t4.2\\nrealme 10 Pro 5G\\t8\\t128\\t19487\\t4.3\\nrealme 10 Pro 5G\\t6\\t128\\t26570\\t4.3\\nrealme GT 2\\t8\\t128\\t10142\\t4.3\\nrealme GT 2\\t8\\t128\\t10142\\t4.3\\nGoogle Pixel 6a\\t6\\t128\\t47692\\t4.3\\nGoogle Pixel 6a\\t6\\t128\\t47692\\t4.3\\nrealme 10 Pro 5G\\t6\\t128\\t26570\\t4.3\\nrealme 10 Pro 5G\\t8\\t128\\t19487\\t4.3\\nrealme 10 Pro 5G\\t6\\t128\\t26570\\t4.3\\nrealme 10 Pro 5G\\t8\\t128\\t19487\\t4.3\\nSAMSUNG Galaxy F23 5G\\t6\\t128\\t195602\\t4.3'"
            ],
            "application/vnd.google.colaboratory.intrinsic+json": {
              "type": "string"
            }
          },
          "metadata": {},
          "execution_count": 9
        }
      ]
    },
    {
      "cell_type": "markdown",
      "source": [
        "#8\n",
        "##Replace \\n and \\t with space"
      ],
      "metadata": {
        "id": "UCjMqPlXUQxC"
      }
    },
    {
      "cell_type": "code",
      "source": [
        "text = extracted_text.replace('\\n', ' ').replace('\\t', ' ')\n",
        "print(text)"
      ],
      "metadata": {
        "colab": {
          "base_uri": "https://localhost:8080/"
        },
        "id": "G-UGYv23w849",
        "outputId": "9907d67e-2c8d-48e9-a8a7-6fa0f5682efc"
      },
      "execution_count": 10,
      "outputs": [
        {
          "output_type": "stream",
          "name": "stdout",
          "text": [
            "Name RAM ROM Sold Quantity Rating POCO M4 5G 4 64 79482 4.2 APPLE iPhone 13 0 128 227342 4.7 APPLE iPhone 13 0 128 227342 4.7 APPLE iPhone 13 0 128 227342 4.7 POCO M4 5G 4 64 79482 4.2 vivo T2 5G 8 128 4978 4.4 APPLE iPhone 13 0 128 227342 4.7 SAMSUNG Galaxy F14 5G 6 128 17115 4.2 Infinix Note 12 Pro 5G 8 128 28073 4.1 Infinix Note 12 Pro 5G 8 128 28073 4.1 SAMSUNG Galaxy F23 5G 6 128 195602 4.3 POCO X5 Pro 5G 8 256 8229 4.3 POCO M4 5G 4 64 79482 4.2 realme 10 Pro 5G 8 128 19487 4.3 realme 10 Pro 5G 6 128 26570 4.3 realme GT 2 8 128 10142 4.3 realme GT 2 8 128 10142 4.3 Google Pixel 6a 6 128 47692 4.3 Google Pixel 6a 6 128 47692 4.3 realme 10 Pro 5G 6 128 26570 4.3 realme 10 Pro 5G 8 128 19487 4.3 realme 10 Pro 5G 6 128 26570 4.3 realme 10 Pro 5G 8 128 19487 4.3 SAMSUNG Galaxy F23 5G 6 128 195602 4.3\n"
          ]
        }
      ]
    },
    {
      "cell_type": "code",
      "source": [
        "file_path = '/content/prescription.pdf'\n",
        "extracted_text = extract_text_from_file(file_path)\n",
        "print(extracted_text)"
      ],
      "metadata": {
        "colab": {
          "base_uri": "https://localhost:8080/"
        },
        "id": "aTEtQZG4UHoe",
        "outputId": "c36f09ba-0dad-427b-d562-f5aa1107d3fa"
      },
      "execution_count": 11,
      "outputs": [
        {
          "output_type": "stream",
          "name": "stdout",
          "text": [
            "Date: 27/05/2023\n",
            "Mr. Singh\n",
            "M.D Cardiology\n",
            "Phase 2, Urban Estate\n",
            "Reg. No. 102003\n",
            "58732892378\n",
            "Mr. Singh\n",
            "M.D Cardiology\n",
            "Reg. No. 102003\n",
            " Made by Prescription MakerMs. Patient\n",
            "DOB: 19/08/2003\n",
            "Age: 19 yrs\n",
            "Gender: Female\n",
            "Phase 3, Urban Estate\n",
            "41287380989\n",
            "Height: 5.3 ft\n",
            "Weight: 65 kg\n",
            "Diagnosis: Diagnosis\n",
            "Chief Complaints\n",
            "Chief Complaints\n",
            "Clinical Features\n",
            "Clinical Features\n",
            "Examination\n",
            "Examination\n",
            "• Tab. Paracetamol 25 mg 2 unit Topical After meals Twice daily 7 days --- 14\n",
            "Other Instructions\n",
            "InvestigationsDate: 27/05/2023\n",
            "Mr. Singh\n",
            "M.D Cardiology\n",
            "Phase 2, Urban Estate\n",
            "Reg. No. 102003\n",
            "58732892378\n",
            "Mr. Singh\n",
            "M.D Cardiology\n",
            "Reg. No. 102003\n",
            " Made by Prescription MakerInvestigations\n",
            "Advice/Referrals\n",
            "Advice/Referrals\n",
            "Notes\n",
            "Notes\n"
          ]
        }
      ]
    },
    {
      "cell_type": "code",
      "source": [
        "file_path = '/content/Schedule.png'\n",
        "extracted_text = extract_text_from_file(file_path)\n",
        "print(extracted_text)"
      ],
      "metadata": {
        "colab": {
          "base_uri": "https://localhost:8080/"
        },
        "id": "sM0d8Kg_UODq",
        "outputId": "25f30d09-71d7-4e23-da83-c0801ba6b806"
      },
      "execution_count": 12,
      "outputs": [
        {
          "output_type": "stream",
          "name": "stdout",
          "text": [
            " \n",
            "\n",
            "Schedule\n",
            "\n",
            " \n",
            "\n",
            "Time & Venue :\n",
            "¢ Offline - 09:00 to 13:00 | Monday to Friday | TAN Audi\n",
            "¢ Online - 15:00 to 18:00 | Monday to Friday | Zoom\n",
            "Note : (1) Be on Time (2) Bring your Laptop (3) Bring power extensions (if possible)\n",
            "Brief Schedule:\n",
            "¢ Week 1 | 05 - 09 June 2023 | Basics of Python, OOPs and Problem-Solving using Python, Pandas, Numpy, Scipy\n",
            "¢ Week 2 | 12 - 16 June 2023 | Machine Learning, Optimization and Statistics, Mini Projects\n",
            "¢ Week 3 | 19 - 23 June 2023 | Web Development - Basics (HTML, CSS, Bootstrap, Javascript, ReactJS, Express and MongoDB)\n",
            "¢ Week 4 | 26 - 30 June 2023 | Web Development - Advance (NextJS, Django, Hosting, ML Model Deployment, Crud)\n",
            "¢ Week 5 | 03 - 07 July 2023 | Deep Learning for Image Processing and Natural Language Processing (NLP)\n",
            "¢ Week 6 | 10 - 14 July 2023 | Time Series, Internet of Things (loT), Cloud Services, Generative Al, Valedictory, Certificate distribution\n",
            "\n",
            " \n",
            "\n",
            " \n",
            "\f\n"
          ]
        }
      ]
    }
  ]
}